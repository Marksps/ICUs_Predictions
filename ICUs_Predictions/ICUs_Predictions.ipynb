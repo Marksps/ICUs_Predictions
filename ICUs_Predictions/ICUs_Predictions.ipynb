{
 "cells": [
  {
   "cell_type": "markdown",
   "metadata": {
    "id": "8TA0O7xaiV8i"
   },
   "source": [
    "# นายศุภวิชญ์ ศุภเสถียร 62070274"
   ]
  },
  {
   "cell_type": "code",
   "execution_count": null,
   "metadata": {
    "id": "Y6lkrhv3pJNO"
   },
   "outputs": [],
   "source": [
    "import pandas as pd\n",
    "import numpy as np\n",
    "import requests\n",
    "import scipy as sp\n",
    "from bs4 import BeautifulSoup"
   ]
  },
  {
   "cell_type": "markdown",
   "metadata": {
    "id": "qTNIFnxSurP_"
   },
   "source": [
    "# Part 1: Data Collection"
   ]
  },
  {
   "cell_type": "code",
   "execution_count": 186,
   "metadata": {
    "id": "dgNMpe4duKYG"
   },
   "outputs": [],
   "source": [
    "url = requests.get('http://www.it.kmitl.ac.th/~teerapong/news_archive/index.html')#root URL\n",
    "url_text = BeautifulSoup(url.content,'html')"
   ]
  },
  {
   "cell_type": "code",
   "execution_count": 187,
   "metadata": {
    "id": "OkFPNGpLv3qH"
   },
   "outputs": [],
   "source": [
    "list_path, list_month = [], [] #สร้าง list เปล่าเพื่อนำมาเก็บข้อมูลของ URL \n",
    "\n",
    "#ดึงข้อมูล path url และเดือนมาเก็บไว้ในลิสต์ที่สร้าง\n",
    "for i in url_text.find_all('a',href = True):\n",
    "  if i['href'] != '#':#ไม่เอาลิ้งที่มีสัญลักษณ์ # \n",
    "    list_path.append('http://www.it.kmitl.ac.th/~teerapong/news_archive/' + i['href'])\n",
    "    list_month.append(i.text)"
   ]
  },
  {
   "cell_type": "code",
   "execution_count": 188,
   "metadata": {
    "id": "0Lsa-bAAk3wv"
   },
   "outputs": [],
   "source": [
    "list_category, list_month_news, list_urlnews, list_path_content = [], [], [], []\n",
    "\n",
    "#ดึงข้อมูล ประเภทของข่าว, เดือนที่ข่าวออกม, url ของข่าว \n",
    "for i in list_path:\n",
    "  url_month = requests.get(i)\n",
    "  url_mtext = BeautifulSoup(url_month.content,'html')\n",
    "  url_mtextbody = url_mtext.tbody.find_all('a',href = True) #เอาเฉพาะใน tags <tbody>\n",
    "  for j in url_mtext.find_all('td', {'class':'category'}):\n",
    "    if j.text.strip() != 'N/A':#ไม่เอาค่าว่าง\n",
    "        list_category.append(j.text.strip())\n",
    "        list_month_news.append(list_month[list_path.index(i)])\n",
    "  for k in url_mtextbody:\n",
    "    list_urlnews.append('http://www.it.kmitl.ac.th/~teerapong/news_archive/' + k['href'])\n",
    "    list_path_content.append(k['href'].split('.')[0])   "
   ]
  },
  {
   "cell_type": "code",
   "execution_count": 189,
   "metadata": {
    "id": "9KHrNVixKR1m"
   },
   "outputs": [],
   "source": [
    "list_content ,list_header = [],[]\n",
    "#ดึงข้อมูล เนื่้อหาข่าวและหัวข้อของข่าว\n",
    "for i in list_urlnews:\n",
    "    url_news = requests.get(i)\n",
    "    content_txt = BeautifulSoup(url_news.content,'html')\n",
    "    content_txt.find('p',{'class':'notice'}).decompose()#ลบ class notice ออก\n",
    "    list_header.append(content_txt.h2.text)\n",
    "    test_list = []\n",
    "    for j in content_txt.find_all('p'):\n",
    "     test_list.append(j.text)\n",
    "    list_content.append(''.join(test_list))"
   ]
  },
  {
   "cell_type": "code",
   "execution_count": 190,
   "metadata": {
    "id": "qjTWVhkLl__x"
   },
   "outputs": [],
   "source": [
    "#สร้าง dataframe เพื่อนำมา clean data\n",
    "df = pd.DataFrame({ 'Header':list_header,'Content':list_content,'Category':list_category})"
   ]
  },
  {
   "cell_type": "code",
   "execution_count": 191,
   "metadata": {
    "colab": {
     "base_uri": "https://localhost:8080/"
    },
    "id": "yzTtVP5LqvEE",
    "outputId": "f495e5f8-503d-422a-a9fd-dc386e8b0381"
   },
   "outputs": [
    {
     "data": {
      "text/plain": [
       "23"
      ]
     },
     "execution_count": 191,
     "metadata": {},
     "output_type": "execute_result"
    }
   ],
   "source": [
    "#check ตัวซ้ำ\n",
    "df['Header'].value_counts()\n",
    "df['Content'].value_counts()\n",
    "df.duplicated().sum()"
   ]
  },
  {
   "cell_type": "code",
   "execution_count": 192,
   "metadata": {
    "id": "0ZwlDUsoq3NJ"
   },
   "outputs": [],
   "source": [
    "#drop ตัวซ้้าทิ้ง\n",
    "df = df.drop_duplicates(subset=['Header'])\n",
    "df = df.drop_duplicates(subset=['Content'])\n",
    "#rest index\n",
    "df = df.reset_index(drop=True)"
   ]
  },
  {
   "cell_type": "code",
   "execution_count": 193,
   "metadata": {
    "colab": {
     "base_uri": "https://localhost:8080/"
    },
    "id": "F0VA6Nuqq9iS",
    "outputId": "aaa7abe6-45b5-48dd-8624-9c7f40c81331"
   },
   "outputs": [
    {
     "data": {
      "text/plain": [
       "0"
      ]
     },
     "execution_count": 193,
     "metadata": {},
     "output_type": "execute_result"
    }
   ],
   "source": [
    "#check ตัวซ้ำ\n",
    "df.duplicated().sum()"
   ]
  },
  {
   "cell_type": "code",
   "execution_count": 194,
   "metadata": {
    "colab": {
     "base_uri": "https://localhost:8080/",
     "height": 204
    },
    "id": "yJNZge6PrTYu",
    "outputId": "c89376bd-c1ed-4216-eaf6-784ddb19a752"
   },
   "outputs": [
    {
     "data": {
      "text/html": [
       "<div>\n",
       "<style scoped>\n",
       "    .dataframe tbody tr th:only-of-type {\n",
       "        vertical-align: middle;\n",
       "    }\n",
       "\n",
       "    .dataframe tbody tr th {\n",
       "        vertical-align: top;\n",
       "    }\n",
       "\n",
       "    .dataframe thead th {\n",
       "        text-align: right;\n",
       "    }\n",
       "</style>\n",
       "<table border=\"1\" class=\"dataframe\">\n",
       "  <thead>\n",
       "    <tr style=\"text-align: right;\">\n",
       "      <th></th>\n",
       "      <th>Header</th>\n",
       "      <th>Content</th>\n",
       "      <th>Category</th>\n",
       "    </tr>\n",
       "  </thead>\n",
       "  <tbody>\n",
       "    <tr>\n",
       "      <th>0</th>\n",
       "      <td>21st-Century Sports: How Digital Technology Is...</td>\n",
       "      <td>The sporting industry has come a long way sinc...</td>\n",
       "      <td>technology</td>\n",
       "    </tr>\n",
       "    <tr>\n",
       "      <th>1</th>\n",
       "      <td>Asian quake hits European shares</td>\n",
       "      <td>Asian quake hits European sharesShares in Euro...</td>\n",
       "      <td>business</td>\n",
       "    </tr>\n",
       "    <tr>\n",
       "      <th>2</th>\n",
       "      <td>BT offers free net phone calls</td>\n",
       "      <td>BT is offering customers free internet telepho...</td>\n",
       "      <td>technology</td>\n",
       "    </tr>\n",
       "    <tr>\n",
       "      <th>3</th>\n",
       "      <td>Barclays shares up on merger talk</td>\n",
       "      <td>Barclays shares up on merger talkShares in UK ...</td>\n",
       "      <td>business</td>\n",
       "    </tr>\n",
       "    <tr>\n",
       "      <th>4</th>\n",
       "      <td>Barkley fit for match in Ireland</td>\n",
       "      <td>England centre Olly Barkley has been passed fi...</td>\n",
       "      <td>sport</td>\n",
       "    </tr>\n",
       "  </tbody>\n",
       "</table>\n",
       "</div>"
      ],
      "text/plain": [
       "                                              Header  ...    Category\n",
       "0  21st-Century Sports: How Digital Technology Is...  ...  technology\n",
       "1                   Asian quake hits European shares  ...    business\n",
       "2                     BT offers free net phone calls  ...  technology\n",
       "3                  Barclays shares up on merger talk  ...    business\n",
       "4                   Barkley fit for match in Ireland  ...       sport\n",
       "\n",
       "[5 rows x 3 columns]"
      ]
     },
     "execution_count": 194,
     "metadata": {},
     "output_type": "execute_result"
    }
   ],
   "source": [
    "df.head(5)"
   ]
  },
  {
   "cell_type": "markdown",
   "metadata": {
    "id": "j-KvF8bVuL8S"
   },
   "source": [
    " Save Data to TXT.File  "
   ]
  },
  {
   "cell_type": "code",
   "execution_count": null,
   "metadata": {
    "id": "dXBzxMPSFWQs"
   },
   "outputs": [],
   "source": [
    "!mkdir data\n",
    "!mkdir data/datastore\n",
    "!mkdir data/target"
   ]
  },
  {
   "cell_type": "code",
   "execution_count": null,
   "metadata": {
    "id": "VHAA5w80rbBR"
   },
   "outputs": [],
   "source": [
    "# Content Only File\n",
    "np.savetxt(r'/content/data/datastore/AllArticles_OnlyContent.txt', df['Content'].values, fmt=\"%s\",encoding='utf-8')\n",
    "# Category File\n",
    "np.savetxt(r'/content/data/target/category.txt', df['Category'].values, fmt=\"%s\",encoding='utf-8')\n",
    "# HeadingPlusContent\n",
    "np.savetxt(r'/content/data/datastore/AllArticles_HeadingPlusContent.txt', df[['Header', 'Content']].values, fmt=\"%s\",encoding='utf-8')"
   ]
  },
  {
   "cell_type": "code",
   "execution_count": null,
   "metadata": {
    "id": "s6VyX-u3g-Us"
   },
   "outputs": [],
   "source": [
    "#zipfile\n",
    "!zip -r /content/3_62070274_ศุภวิชญ์.zip /content/data"
   ]
  },
  {
   "cell_type": "markdown",
   "metadata": {
    "id": "iT1Yjmi6BS4w"
   },
   "source": [
    "# Part 2: Text Classification"
   ]
  },
  {
   "cell_type": "markdown",
   "metadata": {
    "id": "apc5cewCvjkP"
   },
   "source": [
    "import .txt Data "
   ]
  },
  {
   "cell_type": "code",
   "execution_count": null,
   "metadata": {
    "colab": {
     "base_uri": "https://localhost:8080/"
    },
    "id": "lyHhFlyPhpVZ",
    "outputId": "efa516cc-2f40-4097-be8f-5bfba804348f"
   },
   "outputs": [
    {
     "name": "stdout",
     "output_type": "stream",
     "text": [
      "Downloading...\n",
      "From: https://drive.google.com/uc?id=1z8TWZVa4lcWVKqeA86Vw3Ui8zh2CZINw\n",
      "To: /content/data.zip\n",
      "100% 2.36M/2.36M [00:00<00:00, 11.1MB/s]\n"
     ]
    }
   ],
   "source": [
    "!gdown --id  1z8TWZVa4lcWVKqeA86Vw3Ui8zh2CZINw -O /content/data.zip"
   ]
  },
  {
   "cell_type": "code",
   "execution_count": null,
   "metadata": {
    "colab": {
     "base_uri": "https://localhost:8080/"
    },
    "id": "Ysoo_jjinBoD",
    "outputId": "a5bcc888-32da-4349-c6db-0e3843d944d9"
   },
   "outputs": [
    {
     "name": "stdout",
     "output_type": "stream",
     "text": [
      "Archive:  /content/data.zip\n",
      "   creating: /content/data/\n",
      "   creating: /content/data/target/\n",
      "  inflating: /content/data/target/category.txt  \n",
      "   creating: /content/data/datastore/\n",
      "  inflating: /content/data/datastore/AllArticles_HeadingPlusContent.txt  \n",
      "   creating: /content/data/datastore/.ipynb_checkpoints/\n",
      "  inflating: /content/data/datastore/AllArticles_OnlyContent.txt  \n"
     ]
    }
   ],
   "source": [
    "!unzip /content/data.zip -d /"
   ]
  },
  {
   "cell_type": "code",
   "execution_count": null,
   "metadata": {
    "colab": {
     "base_uri": "https://localhost:8080/"
    },
    "id": "BtFN9C1fBWCx",
    "outputId": "799ca137-d475-48ef-e45c-fe8c2348ab44"
   },
   "outputs": [
    {
     "name": "stdout",
     "output_type": "stream",
     "text": [
      "Read 1339 raw text documents\n"
     ]
    }
   ],
   "source": [
    "# OnlyContent text data\n",
    "fin = open('/content/data/datastore/AllArticles_OnlyContent.txt', 'r')\n",
    "raw_documents = fin.readlines()\n",
    "fin.close()\n",
    "print(\"Read %d raw text documents\" % len(raw_documents))"
   ]
  },
  {
   "cell_type": "code",
   "execution_count": null,
   "metadata": {
    "colab": {
     "base_uri": "https://localhost:8080/"
    },
    "id": "tNRw3zdI9heq",
    "outputId": "25f0f701-2748-4504-e7c2-371bde4981a6"
   },
   "outputs": [
    {
     "name": "stdout",
     "output_type": "stream",
     "text": [
      "Read 1339 raw text category\n"
     ]
    }
   ],
   "source": [
    "# category text data\n",
    "fin2 = open('/content/data/target/category.txt', 'r')\n",
    "raw_category = fin2.readlines()\n",
    "fin2.close()\n",
    "print(\"Read %d raw text category\" % len(raw_category))"
   ]
  },
  {
   "cell_type": "code",
   "execution_count": null,
   "metadata": {
    "colab": {
     "base_uri": "https://localhost:8080/"
    },
    "id": "doKZ8-aVStNB",
    "outputId": "a47d1f48-2c60-436e-fd2c-64ae96ba7c24"
   },
   "outputs": [
    {
     "name": "stdout",
     "output_type": "stream",
     "text": [
      "Read 1339 raw text topicplusContent\n"
     ]
    }
   ],
   "source": [
    "# HeadingPlusContent text data\n",
    "fin3 = open('/content/data/datastore/AllArticles_HeadingPlusContent.txt', 'r')\n",
    "raw_topicdoc = fin3.readlines()\n",
    "fin3.close()\n",
    "print(\"Read %d raw text topicplusContent\" % len(raw_topicdoc))"
   ]
  },
  {
   "cell_type": "markdown",
   "metadata": {
    "id": "9vgT_TT79kjl"
   },
   "source": [
    "## Text Preprocessing"
   ]
  },
  {
   "cell_type": "code",
   "execution_count": null,
   "metadata": {
    "colab": {
     "base_uri": "https://localhost:8080/"
    },
    "id": "W71rq2kqAhV6",
    "outputId": "6f5123b1-17f0-47c6-aa79-673494c11ede"
   },
   "outputs": [
    {
     "name": "stdout",
     "output_type": "stream",
     "text": [
      "[nltk_data] Downloading package wordnet to /root/nltk_data...\n",
      "[nltk_data]   Unzipping corpora/wordnet.zip.\n",
      "[nltk_data] Downloading package averaged_perceptron_tagger to\n",
      "[nltk_data]     /root/nltk_data...\n",
      "[nltk_data]   Unzipping taggers/averaged_perceptron_tagger.zip.\n"
     ]
    },
    {
     "data": {
      "text/plain": [
       "True"
      ]
     },
     "execution_count": 13,
     "metadata": {},
     "output_type": "execute_result"
    }
   ],
   "source": [
    "import nltk\n",
    "nltk.download('wordnet')\n",
    "nltk.download('averaged_perceptron_tagger')"
   ]
  },
  {
   "cell_type": "markdown",
   "metadata": {
    "id": "--Qv0w17wF-f"
   },
   "source": [
    "###Apply Define function lemmatization"
   ]
  },
  {
   "cell_type": "markdown",
   "metadata": {
    "id": "8iGGk3daBFs_"
   },
   "source": [
    " Def without POS tagging"
   ]
  },
  {
   "cell_type": "code",
   "execution_count": null,
   "metadata": {
    "id": "07UN6xrB9om8"
   },
   "outputs": [],
   "source": [
    "# define the function\n",
    "def lemma_tokenizer(text):\n",
    "    # use the standard scikit-learn tokenizer first\n",
    "    standard_tokenizer = CountVectorizer().build_tokenizer()\n",
    "    tokens = standard_tokenizer(text)\n",
    "    # then use NLTK to perform lemmatisation on each token\n",
    "    lemmatizer = nltk.stem.WordNetLemmatizer()\n",
    "    lemma_tokens = []\n",
    "    for token in tokens:\n",
    "        lemma_tokens.append( lemmatizer.lemmatize(token))\n",
    "    return lemma_tokens"
   ]
  },
  {
   "cell_type": "markdown",
   "metadata": {
    "id": "QTJAVXJ1C2Ic"
   },
   "source": [
    "### Term Weighting"
   ]
  },
  {
   "cell_type": "code",
   "execution_count": null,
   "metadata": {
    "id": "i5_BZEOLEhQd"
   },
   "outputs": [],
   "source": [
    "from sklearn.feature_extraction.text import TfidfVectorizer\n",
    "from sklearn.feature_extraction.text import CountVectorizer\n",
    "from sklearn.feature_extraction import text"
   ]
  },
  {
   "cell_type": "code",
   "execution_count": null,
   "metadata": {
    "colab": {
     "base_uri": "https://localhost:8080/"
    },
    "id": "OKGEj5ywCN_s",
    "outputId": "0dc918bf-1270-493a-fa49-8b6a38f31be6"
   },
   "outputs": [
    {
     "name": "stderr",
     "output_type": "stream",
     "text": [
      "/usr/local/lib/python3.7/dist-packages/sklearn/feature_extraction/text.py:507: UserWarning: The parameter 'token_pattern' will not be used since 'tokenizer' is not None'\n",
      "  warnings.warn(\"The parameter 'token_pattern' will not be used\"\n",
      "/usr/local/lib/python3.7/dist-packages/sklearn/feature_extraction/text.py:385: UserWarning: Your stop_words may be inconsistent with your preprocessing. Tokenizing the stop words generated tokens ['ha', 'le', 'u', 'wa'] not in stop_words.\n",
      "  'stop_words.' % sorted(inconsistent))\n"
     ]
    }
   ],
   "source": [
    "# Term Weighting content only\n",
    "vectorizer = TfidfVectorizer(stop_words=\"english\", min_df = 5, tokenizer=lemma_tokenizer, lowercase = True)\n",
    "vectorizer.fit(raw_documents)\n",
    "X = vectorizer.transform(raw_documents)\n",
    "tfidf_array = np.array(X.todense())"
   ]
  },
  {
   "cell_type": "code",
   "execution_count": null,
   "metadata": {
    "colab": {
     "base_uri": "https://localhost:8080/"
    },
    "id": "N84bZVLj-3zL",
    "outputId": "b1082db3-2b32-47c1-b853-fe17dfc0532b"
   },
   "outputs": [
    {
     "name": "stderr",
     "output_type": "stream",
     "text": [
      "/usr/local/lib/python3.7/dist-packages/sklearn/feature_extraction/text.py:507: UserWarning: The parameter 'token_pattern' will not be used since 'tokenizer' is not None'\n",
      "  warnings.warn(\"The parameter 'token_pattern' will not be used\"\n",
      "/usr/local/lib/python3.7/dist-packages/sklearn/feature_extraction/text.py:385: UserWarning: Your stop_words may be inconsistent with your preprocessing. Tokenizing the stop words generated tokens ['ha', 'le', 'u', 'wa'] not in stop_words.\n",
      "  'stop_words.' % sorted(inconsistent))\n"
     ]
    }
   ],
   "source": [
    "#Term Weighting TopicplusContent\n",
    "vectorizer_topic = TfidfVectorizer(stop_words=\"english\", min_df = 5, tokenizer=lemma_tokenizer, lowercase = True)\n",
    "vectorizer_topic.fit(raw_topicdoc)\n",
    "X_topic = vectorizer.transform(raw_topicdoc)"
   ]
  },
  {
   "cell_type": "markdown",
   "metadata": {
    "id": "HRf70xSg_Cnv"
   },
   "source": [
    "# Modeling"
   ]
  },
  {
   "cell_type": "code",
   "execution_count": 178,
   "metadata": {
    "id": "-SvMl3xtoXjF"
   },
   "outputs": [],
   "source": [
    "from sklearn import preprocessing\n",
    "from sklearn.model_selection import train_test_split, cross_val_score, cross_val_predict\n",
    "from sklearn.metrics import classification_report\n",
    "from sklearn.metrics import *\n",
    "from sklearn.model_selection import GridSearchCV\n",
    "from sklearn.datasets import make_blobs\n",
    "from sklearn.model_selection import RepeatedStratifiedKFold\n",
    "from sklearn.metrics import f1_score"
   ]
  },
  {
   "cell_type": "code",
   "execution_count": null,
   "metadata": {
    "id": "fMAFhuyt9e-Y"
   },
   "outputs": [],
   "source": [
    "#encode category text\n",
    "label_encode = preprocessing.LabelEncoder()\n",
    "cat_encode = label_encode.fit_transform(raw_category)"
   ]
  },
  {
   "cell_type": "markdown",
   "metadata": {
    "id": "EJu82LZJynpc"
   },
   "source": [
    "###Split data into training and testing."
   ]
  },
  {
   "cell_type": "code",
   "execution_count": null,
   "metadata": {
    "id": "nbGVACaIoaPR"
   },
   "outputs": [],
   "source": [
    "# Data Content Only\n",
    "X_train, X_test, y_train, y_test = train_test_split(X, cat_encode, test_size= 0.25, random_state = 0)"
   ]
  },
  {
   "cell_type": "code",
   "execution_count": null,
   "metadata": {
    "id": "FztPDnwS67oc"
   },
   "outputs": [],
   "source": [
    "# Data Topic + Content \n",
    "X2_train, X2_test, y2_train, y2_test = train_test_split(X_topic, cat_encode, test_size= 0.25,random_state = 0)"
   ]
  },
  {
   "cell_type": "code",
   "execution_count": 152,
   "metadata": {
    "id": "p7WpM6OoBoSY"
   },
   "outputs": [],
   "source": [
    "cls_name, acc_scr, model_type, cv_scr,f1_scr = [],[],[],[],[]"
   ]
  },
  {
   "cell_type": "markdown",
   "metadata": {
    "id": "jDbhdJG6PESf"
   },
   "source": [
    "## K-Nearest Neighbor "
   ]
  },
  {
   "cell_type": "code",
   "execution_count": null,
   "metadata": {
    "id": "2xn6-CqcO8X8"
   },
   "outputs": [],
   "source": [
    "from sklearn.neighbors import KNeighborsClassifier\n",
    "from sklearn import metrics, neighbors"
   ]
  },
  {
   "cell_type": "code",
   "execution_count": null,
   "metadata": {
    "id": "n8V7B44nWNMX"
   },
   "outputs": [],
   "source": [
    "#define the function Hyperparameters tuning\n",
    "def Hyperparameters_KNN(x,y):\n",
    "    #List Hyperparameters \n",
    "    leaf_size = list(range(1,30))\n",
    "    n_neighbors = list(range(1,20))\n",
    "    p=[1,2]\n",
    "    #Convert to dictionary\n",
    "    hyperparameters = dict(leaf_size=leaf_size, n_neighbors=n_neighbors, p=p)\n",
    "    #Create new KNN object\n",
    "    knn_2 = KNeighborsClassifier()\n",
    "    #Use GridSearch\n",
    "    clf = GridSearchCV(knn_2, hyperparameters, cv=10)\n",
    "    #Fit the model\n",
    "    best_model = clf.fit(x,y)\n",
    "    #Print The value of best Hyperparameters\n",
    "    print('Best leaf_size:', best_model.best_estimator_.get_params()['leaf_size'])\n",
    "    print('Best p:', best_model.best_estimator_.get_params()['p'])\n",
    "    print('Best n_neighbors:', best_model.best_estimator_.get_params()['n_neighbors'])"
   ]
  },
  {
   "cell_type": "markdown",
   "metadata": {
    "id": "PfcPuIROJ-MP"
   },
   "source": [
    "Model Raw Document content Only\n",
    "\n"
   ]
  },
  {
   "cell_type": "code",
   "execution_count": null,
   "metadata": {
    "colab": {
     "base_uri": "https://localhost:8080/"
    },
    "id": "j211EzLpts1j",
    "outputId": "0902403a-9a00-4e8a-d60a-7435572d672e"
   },
   "outputs": [
    {
     "name": "stdout",
     "output_type": "stream",
     "text": [
      "Best leaf_size: 1\n",
      "Best p: 2\n",
      "Best n_neighbors: 12\n"
     ]
    }
   ],
   "source": [
    "# นำ Data Content Only ไปแทนค่าใน def เพื่อหา value ที่ดีที่สุด\n",
    "Hyperparameters_KNN(X_test, y_test)"
   ]
  },
  {
   "cell_type": "code",
   "execution_count": 153,
   "metadata": {
    "colab": {
     "base_uri": "https://localhost:8080/"
    },
    "id": "UtWnG6epDKxG",
    "outputId": "80974a93-4f44-4dc2-dfdb-8bf013cad001"
   },
   "outputs": [
    {
     "name": "stdout",
     "output_type": "stream",
     "text": [
      "Accuarcy = 0.97\n",
      "Mean cross-validation = 0.97\n",
      "F1-Score = 0.97\n"
     ]
    }
   ],
   "source": [
    "# Best Performance\n",
    "knn_textonly = neighbors.KNeighborsClassifier(n_neighbors= 12 ,p=2 ,leaf_size=1)\n",
    "# Training the model.\n",
    "knn_textonly.fit(X_train, y_train)\n",
    "# Predict test data set.\n",
    "predicted_textonly = knn_textonly.predict(X_test)\n",
    "acc_scores_textonly = cross_val_score(knn_textonly, X, cat_encode, cv=5, scoring='accuracy')\n",
    "knn_f1 = f1_score(y_test, predicted_textonly, average='micro')\n",
    "# Append list \n",
    "cls_name.append('K-Nearest Neighbor')\n",
    "model_type.append('Content Only')\n",
    "acc_scr.append(accuracy_score(y_test, predicted_textonly))\n",
    "cv_scr.append(acc_scores_textonly.mean())\n",
    "f1_scr.append(knn_f1)\n",
    "# Summarize results\n",
    "print(\"Accuarcy = %.2f\" % accuracy_score(y_test, predicted_textonly))\n",
    "print('Mean cross-validation = %.2f' % acc_scores_textonly.mean())\n",
    "print('F1-Score = %.2f' % knn_f1)"
   ]
  },
  {
   "cell_type": "markdown",
   "metadata": {
    "id": "QPM12fs9KGB1"
   },
   "source": [
    "Model Raw Document TopicplusContent"
   ]
  },
  {
   "cell_type": "code",
   "execution_count": null,
   "metadata": {
    "colab": {
     "base_uri": "https://localhost:8080/"
    },
    "id": "5JLAVZA2CbTy",
    "outputId": "00d58ba3-3639-4c36-88fb-7e6435f8d03e"
   },
   "outputs": [
    {
     "name": "stdout",
     "output_type": "stream",
     "text": [
      "Best leaf_size: 1\n",
      "Best p: 2\n",
      "Best n_neighbors: 17\n"
     ]
    }
   ],
   "source": [
    "# นำ Data TopicplusContent ไปแทนค่าใน def เพื่อหา value ที่่ดีที่สุด\n",
    "Hyperparameters_KNN(X2_test, y2_test)"
   ]
  },
  {
   "cell_type": "code",
   "execution_count": 154,
   "metadata": {
    "colab": {
     "base_uri": "https://localhost:8080/"
    },
    "id": "wVydVB3jJXQM",
    "outputId": "f17d0761-06f6-4513-b5ff-b99804e63e4c"
   },
   "outputs": [
    {
     "name": "stdout",
     "output_type": "stream",
     "text": [
      "Accuarcy = 0.967\n",
      "Mean cross-validation  = 0.96\n",
      "F1-Score = 0.967\n"
     ]
    }
   ],
   "source": [
    "# Best Performance\n",
    "knn_Topic = neighbors.KNeighborsClassifier(n_neighbors= 17 ,p=2 ,leaf_size=1)\n",
    "#Training the model.\n",
    "knn_Topic.fit(X2_train, y2_train)\n",
    "#Predict test data set.\n",
    "predicted_Topic = knn_Topic.predict(X2_test)\n",
    "acc_scores_Topic = cross_val_score(knn_Topic, X_topic, cat_encode, cv=5, scoring='accuracy')\n",
    "knn_f1_top = f1_score(y2_test, predicted_Topic, average='micro')\n",
    "# Append list \n",
    "cls_name.append('K-Nearest Neighbor')\n",
    "model_type.append('TopicplusContent')\n",
    "acc_scr.append(accuracy_score(y2_test, predicted_Topic))\n",
    "cv_scr.append(acc_scores_Topic.mean())\n",
    "f1_scr.append(knn_f1_top)\n",
    "print(\"Accuarcy = %.3f\" % accuracy_score(y2_test, predicted_Topic))\n",
    "print('Mean cross-validation  = %.2f' % acc_scores_Topic.mean())\n",
    "print('F1-Score = %.3f' % knn_f1_top)"
   ]
  },
  {
   "cell_type": "markdown",
   "metadata": {
    "id": "yvF7lPLzWQ80"
   },
   "source": [
    "## LogisticRegression"
   ]
  },
  {
   "cell_type": "code",
   "execution_count": null,
   "metadata": {
    "id": "oCzUVQ1fuxPX"
   },
   "outputs": [],
   "source": [
    "from sklearn.linear_model import LogisticRegression"
   ]
  },
  {
   "cell_type": "code",
   "execution_count": null,
   "metadata": {
    "id": "cI6kv_nidynf"
   },
   "outputs": [],
   "source": [
    "#define the function Hyperparameters tuning\n",
    "def Hyperparameters_Log(x,y):\n",
    "    #List Hyperparameters \n",
    "    model = LogisticRegression()\n",
    "    solvers = ['newton-cg', 'lbfgs', 'liblinear']\n",
    "    penalty = ['l2']\n",
    "    c_values = [100, 10, 1.0, 0.1, 0.01]\n",
    "    # define grid search\n",
    "    grid = dict(solver=solvers,penalty=penalty,C=c_values)\n",
    "    cv = RepeatedStratifiedKFold(n_splits=10, n_repeats=3, random_state=1)\n",
    "    grid_search = GridSearchCV(estimator=model, param_grid=grid, n_jobs=-1, cv=cv, scoring='accuracy',error_score=0)\n",
    "    grid_result = grid_search.fit(x, y)\n",
    "    # summarize results\n",
    "    print(\"Best: %f using %s\" % (grid_result.best_score_, grid_result.best_params_))"
   ]
  },
  {
   "cell_type": "markdown",
   "metadata": {
    "id": "1G1sHHhaK85c"
   },
   "source": [
    "Model Raw Document content Only\n"
   ]
  },
  {
   "cell_type": "code",
   "execution_count": null,
   "metadata": {
    "colab": {
     "base_uri": "https://localhost:8080/"
    },
    "id": "AocOCLT5wMUY",
    "outputId": "0eb4f55e-4851-4c0d-ac37-afe218902dce"
   },
   "outputs": [
    {
     "name": "stdout",
     "output_type": "stream",
     "text": [
      "Best: 0.976203 using {'C': 100, 'penalty': 'l2', 'solver': 'newton-cg'}\n"
     ]
    }
   ],
   "source": [
    "# นำ Data Content Only ไปแทนค่าใน def เพื่อหา value ที่ดีที่สุด\n",
    "Hyperparameters_Log(X_test, y_test)"
   ]
  },
  {
   "cell_type": "code",
   "execution_count": 155,
   "metadata": {
    "colab": {
     "base_uri": "https://localhost:8080/"
    },
    "id": "4SChsErgOdq-",
    "outputId": "9087a1f4-3057-400b-d6be-2a98f8063655"
   },
   "outputs": [
    {
     "name": "stdout",
     "output_type": "stream",
     "text": [
      "Accuarcy = 0.98\n",
      "Mean cross-validation = 0.984\n",
      "F1-Score = 0.982\n"
     ]
    }
   ],
   "source": [
    "# Best Performance\n",
    "Log_reg = LogisticRegression(C = 100, penalty='l2', solver='newton-cg')\n",
    "#Training the model.\n",
    "Log_reg.fit(X_train, y_train)\n",
    "#Predict test data set.\n",
    "predicted_log = Log_reg.predict(X_test)\n",
    "acc_scores_log = cross_val_score(Log_reg, X, cat_encode, cv=5, scoring='accuracy')\n",
    "log_f1 = f1_score(y_test, predicted_log, average='micro')\n",
    "# Append list \n",
    "cls_name.append('LogisticRegression')\n",
    "model_type.append('Content Only')\n",
    "acc_scr.append(accuracy_score(y_test,predicted_log))\n",
    "cv_scr.append(acc_scores_log.mean())\n",
    "f1_scr.append(log_f1)\n",
    "print(\"Accuarcy = %.2f\" % accuracy_score(y_test, predicted_log))\n",
    "print('Mean cross-validation = %.3f' % acc_scores_log.mean())\n",
    "print('F1-Score = %.3f' % log_f1)"
   ]
  },
  {
   "cell_type": "markdown",
   "metadata": {
    "id": "mTMPUqG5K-UD"
   },
   "source": [
    "Model Raw Document TopicplusContent"
   ]
  },
  {
   "cell_type": "code",
   "execution_count": null,
   "metadata": {
    "colab": {
     "base_uri": "https://localhost:8080/"
    },
    "id": "FWjHzczNHFg-",
    "outputId": "cb3280a4-794e-40d1-bf10-eeb2332cf9ba"
   },
   "outputs": [
    {
     "name": "stdout",
     "output_type": "stream",
     "text": [
      "Best: 0.976203 using {'C': 100, 'penalty': 'l2', 'solver': 'newton-cg'}\n"
     ]
    }
   ],
   "source": [
    "# นำ Data TopicplusContent ไปแทนค่าใน def เพื่อหา value ที่่ดีที่สุด\n",
    "Hyperparameters_Log(X2_test, y2_test)"
   ]
  },
  {
   "cell_type": "code",
   "execution_count": 156,
   "metadata": {
    "colab": {
     "base_uri": "https://localhost:8080/"
    },
    "id": "HeWkh3vMLD02",
    "outputId": "6bcc7c18-f890-4017-d525-4118a01e94dd"
   },
   "outputs": [
    {
     "name": "stdout",
     "output_type": "stream",
     "text": [
      "Accuarcy = 0.98\n",
      "Mean cross-validation = 0.981\n",
      "F1-Score = 0.982\n"
     ]
    }
   ],
   "source": [
    "# Best Performance\n",
    "Log_reg_topic = LogisticRegression(C = 100, penalty='l2', solver='newton-cg')\n",
    "#Training the model.\n",
    "Log_reg_topic.fit(X2_train, y2_train)\n",
    "#Predict test data set.\n",
    "predicted_log_topic = Log_reg_topic.predict(X2_test)\n",
    "acc_scores_log_topic = cross_val_score(Log_reg_topic, X_topic, cat_encode, cv=5, scoring='accuracy')\n",
    "log_f1_topic = f1_score(y2_test, predicted_log_topic, average='micro')\n",
    "# Append list \n",
    "cls_name.append('LogisticRegression')\n",
    "model_type.append('TopicplusContent')\n",
    "acc_scr.append(accuracy_score(y2_test,predicted_log_topic))\n",
    "cv_scr.append(acc_scores_log_topic.mean())\n",
    "f1_scr.append(log_f1_topic)\n",
    "print(\"Accuarcy = %.2f\" % accuracy_score(y2_test, predicted_log_topic))\n",
    "print('Mean cross-validation = %.3f' % acc_scores_log_topic.mean())\n",
    "print('F1-Score = %.3f' % log_f1_topic)"
   ]
  },
  {
   "cell_type": "markdown",
   "metadata": {
    "id": "CnX3BKXBjzNA"
   },
   "source": [
    "## Random Forest"
   ]
  },
  {
   "cell_type": "code",
   "execution_count": null,
   "metadata": {
    "id": "F7tS81CUkWWn"
   },
   "outputs": [],
   "source": [
    "from sklearn.ensemble import RandomForestClassifier"
   ]
  },
  {
   "cell_type": "code",
   "execution_count": null,
   "metadata": {
    "id": "QFGxha6rj4N4"
   },
   "outputs": [],
   "source": [
    "#define the function Hyperparameters tuning\n",
    "def Hyperparameters_RanFor(x,y):\n",
    "    model = RandomForestClassifier()\n",
    "    n_estimators = [10, 100, 1000]\n",
    "    max_features = ['sqrt', 'log2']\n",
    "    # define grid search\n",
    "    grid = dict(n_estimators=n_estimators,max_features=max_features)\n",
    "    cv = RepeatedStratifiedKFold(n_splits=10, n_repeats=3, random_state=1)\n",
    "    grid_search = GridSearchCV(estimator=model, param_grid=grid, n_jobs=-1, cv=cv, scoring='accuracy',error_score=0)\n",
    "    grid_result = grid_search.fit(x, y)\n",
    "    # summarize results\n",
    "    print(\"Best: %f using %s\" % (grid_result.best_score_, grid_result.best_params_))"
   ]
  },
  {
   "cell_type": "markdown",
   "metadata": {
    "id": "7VV3OKdzPb6P"
   },
   "source": [
    "Model Raw Document content Only"
   ]
  },
  {
   "cell_type": "code",
   "execution_count": null,
   "metadata": {
    "colab": {
     "base_uri": "https://localhost:8080/"
    },
    "id": "qA4xPGkvwlCy",
    "outputId": "b454365a-fedd-48b6-e3ce-b6fc14a086bc"
   },
   "outputs": [
    {
     "name": "stdout",
     "output_type": "stream",
     "text": [
      "Best: 0.972074 using {'max_features': 'sqrt', 'n_estimators': 1000}\n"
     ]
    }
   ],
   "source": [
    "# นำ Data Content Only ไปแทนค่าใน def เพื่อหา value ที่ดีที่สุด\n",
    "Hyperparameters_RanFor(X_test, y_test)"
   ]
  },
  {
   "cell_type": "code",
   "execution_count": 157,
   "metadata": {
    "colab": {
     "base_uri": "https://localhost:8080/"
    },
    "id": "7M-y8TYLlQ5m",
    "outputId": "2cd61914-f55d-4806-b5da-32320ff263ae"
   },
   "outputs": [
    {
     "name": "stdout",
     "output_type": "stream",
     "text": [
      "Accuarcy = 0.97\n",
      "Mean cross-validation = 0.97\n",
      "F1-Score = 0.97\n"
     ]
    }
   ],
   "source": [
    "# Best Performance\n",
    "clf = RandomForestClassifier(max_features='sqrt', n_estimators=1000 )\n",
    "#Training the model.\n",
    "clf.fit(X_train, y_train)\n",
    "#Predict test data set.\n",
    "predicted_clf = clf.predict(X_test)\n",
    "acc_scores_clf = cross_val_score(clf, X, cat_encode, cv=5, scoring='accuracy')\n",
    "clf_f1 = f1_score(y_test, predicted_clf, average='micro')\n",
    "# Append list \n",
    "cls_name.append('Random Forest')\n",
    "model_type.append('Content Only')\n",
    "acc_scr.append(accuracy_score(y_test,predicted_clf))\n",
    "cv_scr.append(acc_scores_clf.mean())\n",
    "f1_scr.append(clf_f1)\n",
    "print(\"Accuarcy = %.2f\" % accuracy_score(y_test, predicted_clf))\n",
    "print('Mean cross-validation = %.2f' % acc_scores_clf.mean())\n",
    "print('F1-Score = %.2f' % clf_f1)"
   ]
  },
  {
   "cell_type": "markdown",
   "metadata": {
    "id": "s2CGrEcOPhLm"
   },
   "source": [
    "Model Raw Document TopicplusContent"
   ]
  },
  {
   "cell_type": "code",
   "execution_count": null,
   "metadata": {
    "colab": {
     "base_uri": "https://localhost:8080/"
    },
    "id": "DLhIsyehOU81",
    "outputId": "7bb25f9a-19f1-4303-fa4e-397fe78394c2"
   },
   "outputs": [
    {
     "name": "stdout",
     "output_type": "stream",
     "text": [
      "Best: 0.972133 using {'max_features': 'log2', 'n_estimators': 1000}\n"
     ]
    }
   ],
   "source": [
    "# นำ Data TopicplusContent ไปแทนค่าใน def เพื่อหา value ที่่ดีที่สุด\n",
    "Hyperparameters_RanFor(X2_test, y2_test)"
   ]
  },
  {
   "cell_type": "code",
   "execution_count": 158,
   "metadata": {
    "colab": {
     "base_uri": "https://localhost:8080/"
    },
    "id": "ybUzRWFuP1MZ",
    "outputId": "7490dd35-68f4-4f9a-a49b-8410c9826ab0"
   },
   "outputs": [
    {
     "name": "stdout",
     "output_type": "stream",
     "text": [
      "Accuarcy = 0.97\n",
      "Mean cross-validation = 0.96\n",
      "F1-Score = 0.97\n"
     ]
    }
   ],
   "source": [
    "# Best Performance\n",
    "clf_topic = RandomForestClassifier(max_features='log2', n_estimators=1000 )\n",
    "#Training the model.\n",
    "clf_topic.fit(X2_train, y2_train)\n",
    "#Predict test data set.\n",
    "predicted_clf_topic = clf_topic.predict(X2_test)\n",
    "acc_scores_clf_topic = cross_val_score(clf_topic, X_topic, cat_encode, cv=5, scoring='accuracy')\n",
    "clf_f1_topic = f1_score(y2_test, predicted_clf_topic, average='micro')\n",
    "# Append list \n",
    "cls_name.append('Random Forest')\n",
    "model_type.append('TopicplusContent')\n",
    "acc_scr.append(accuracy_score(y2_test,predicted_clf_topic))\n",
    "cv_scr.append(acc_scores_clf_topic.mean())\n",
    "f1_scr.append(clf_f1_topic)\n",
    "print(\"Accuarcy = %.2f\" % accuracy_score(y2_test, predicted_clf_topic))\n",
    "print('Mean cross-validation = %.2f' % acc_scores_clf_topic.mean())\n",
    "print('F1-Score = %.2f' % clf_f1_topic)"
   ]
  },
  {
   "cell_type": "markdown",
   "metadata": {
    "id": "CIyi2k327N5P"
   },
   "source": [
    "## Support Vector Machine"
   ]
  },
  {
   "cell_type": "code",
   "execution_count": null,
   "metadata": {
    "id": "7zNcRNfr7NNb"
   },
   "outputs": [],
   "source": [
    "from sklearn.linear_model import SGDClassifier\n",
    "from sklearn.svm import SVC"
   ]
  },
  {
   "cell_type": "code",
   "execution_count": null,
   "metadata": {
    "id": "U8JMnL_Z7Xkv"
   },
   "outputs": [],
   "source": [
    "def Hyperparameters_SVM(x,y):\n",
    "    # define model and parameters\n",
    "    model = SVC()\n",
    "    kernel = ['poly', 'rbf', 'sigmoid']\n",
    "    C = [50, 10, 1.0, 0.1, 0.01]\n",
    "    gamma = ['scale']\n",
    "    # define grid search\n",
    "    grid = dict(kernel=kernel,C=C,gamma=gamma)\n",
    "    cv = RepeatedStratifiedKFold(n_splits=10, n_repeats=3, random_state=1)\n",
    "    grid_search = GridSearchCV(estimator=model, param_grid=grid, n_jobs=-1, cv=cv, scoring='accuracy',error_score=0)\n",
    "    grid_result = grid_search.fit(x, y)\n",
    "    # summarize results\n",
    "    print(\"Best: %f using %s\" % (grid_result.best_score_, grid_result.best_params_))"
   ]
  },
  {
   "cell_type": "markdown",
   "metadata": {
    "id": "743dWo1pRIz2"
   },
   "source": [
    "Model Raw Document content Only"
   ]
  },
  {
   "cell_type": "code",
   "execution_count": null,
   "metadata": {
    "colab": {
     "base_uri": "https://localhost:8080/"
    },
    "id": "1QDZFWTY96Tc",
    "outputId": "74657052-dcf3-43cc-8ad6-8874ec7d8c2d"
   },
   "outputs": [
    {
     "name": "stdout",
     "output_type": "stream",
     "text": [
      "Best: 0.975223 using {'C': 50, 'gamma': 'scale', 'kernel': 'sigmoid'}\n"
     ]
    }
   ],
   "source": [
    "# นำ Data Content Only ไปแทนค่าใน def เพื่อหา value ที่ดีที่สุด\n",
    "Hyperparameters_SVM(X_test, y_test)"
   ]
  },
  {
   "cell_type": "code",
   "execution_count": 159,
   "metadata": {
    "colab": {
     "base_uri": "https://localhost:8080/"
    },
    "id": "NBNwF4X07-8t",
    "outputId": "1e499337-4557-4a91-9b71-9fd91a127c39"
   },
   "outputs": [
    {
     "name": "stdout",
     "output_type": "stream",
     "text": [
      "Accuarcy = 0.98\n",
      "Mean cross-validation = 0.98\n",
      "F1-Score = 0.982\n"
     ]
    }
   ],
   "source": [
    "# Best Performance\n",
    "sv = SVC(C = 50, kernel='sigmoid', gamma='scale')\n",
    "#Training the model.\n",
    "sv.fit(X_train, y_train)\n",
    "#Predict test data set.\n",
    "predicted_sv = sv.predict(X_test)\n",
    "acc_scores_sv = cross_val_score(sv, X, cat_encode, cv=5, scoring='accuracy')\n",
    "sv_f1 = f1_score(y_test, predicted_sv, average='micro')\n",
    "# Append list \n",
    "cls_name.append('Support Vector Machine')\n",
    "model_type.append('Content Only')\n",
    "acc_scr.append(accuracy_score(y_test,predicted_sv))\n",
    "cv_scr.append(acc_scores_sv.mean())\n",
    "f1_scr.append(sv_f1)\n",
    "print(\"Accuarcy = %.2f\" % accuracy_score(y_test, predicted_sv))\n",
    "print('Mean cross-validation = %.2f' % acc_scores_sv.mean())\n",
    "print('F1-Score = %.3f' % sv_f1)"
   ]
  },
  {
   "cell_type": "markdown",
   "metadata": {
    "id": "R3nW3GsURJYh"
   },
   "source": [
    "Model Raw Document TopicplusContent"
   ]
  },
  {
   "cell_type": "code",
   "execution_count": null,
   "metadata": {
    "colab": {
     "base_uri": "https://localhost:8080/"
    },
    "id": "4IctUfx2RfYb",
    "outputId": "41dc24e6-6ff3-4e78-dcb7-19541c6e2f0f"
   },
   "outputs": [
    {
     "name": "stdout",
     "output_type": "stream",
     "text": [
      "Best: 0.974213 using {'C': 1.0, 'gamma': 'scale', 'kernel': 'sigmoid'}\n"
     ]
    }
   ],
   "source": [
    "# นำ Data TopicplusContent ไปแทนค่าใน def เพื่อหา value ที่่ดีที่สุด\n",
    "Hyperparameters_SVM(X2_test, y2_test)"
   ]
  },
  {
   "cell_type": "code",
   "execution_count": 160,
   "metadata": {
    "colab": {
     "base_uri": "https://localhost:8080/"
    },
    "id": "AvcMNMzhRn4W",
    "outputId": "a9f2e821-c7b2-4b31-cdf8-f26da6cf9818"
   },
   "outputs": [
    {
     "name": "stdout",
     "output_type": "stream",
     "text": [
      "Accuarcy = 0.99\n",
      "Mean cross-validation = 0.98\n",
      "F1-Score = 0.985\n"
     ]
    }
   ],
   "source": [
    "# Best Performance\n",
    "sv_topic = SVC(C = 1, kernel='sigmoid', gamma='scale')\n",
    "#Training the model.\n",
    "sv_topic.fit(X2_train, y2_train)\n",
    "#Predict test data set.\n",
    "predicted_sv_topic = sv_topic.predict(X2_test)\n",
    "acc_scores_sv_topic = cross_val_score(sv_topic, X_topic, cat_encode, cv=5, scoring='accuracy')\n",
    "sv_f1_topic = f1_score(y2_test, predicted_sv_topic, average='micro')\n",
    "# Append list \n",
    "cls_name.append('Support Vector Machine')\n",
    "model_type.append('TopicplusContent')\n",
    "acc_scr.append(accuracy_score(y_test,predicted_sv_topic))\n",
    "cv_scr.append(acc_scores_sv_topic.mean())\n",
    "f1_scr.append(sv_f1_topic)\n",
    "print(\"Accuarcy = %.2f\" % accuracy_score(y2_test, predicted_sv_topic))\n",
    "print('Mean cross-validation = %.2f' % acc_scores_sv_topic.mean())\n",
    "print('F1-Score = %.3f' % sv_f1_topic)"
   ]
  },
  {
   "cell_type": "markdown",
   "metadata": {
    "id": "BTXjVCU7WvK3"
   },
   "source": [
    "# Data Visualization"
   ]
  },
  {
   "cell_type": "code",
   "execution_count": null,
   "metadata": {
    "id": "QzuC7i7FYrTY"
   },
   "outputs": [],
   "source": [
    "import seaborn as sns\n",
    "from matplotlib import pyplot\n",
    "import matplotlib.pyplot as plt"
   ]
  },
  {
   "cell_type": "code",
   "execution_count": 165,
   "metadata": {
    "id": "fwWBGHRRYOPZ"
   },
   "outputs": [],
   "source": [
    "#สร้าง dataframe \n",
    "sum_viz = pd.DataFrame({'Model_Name':cls_name,'ACC_Value':acc_scr, 'CV_Value':cv_scr, 'F1_Score':f1_scr, 'Type':model_type})"
   ]
  },
  {
   "cell_type": "code",
   "execution_count": 167,
   "metadata": {
    "colab": {
     "base_uri": "https://localhost:8080/",
     "height": 648
    },
    "id": "7qchK4CMcwgl",
    "outputId": "f6ccbffc-7a6a-436f-906e-2266e0c58a1b"
   },
   "outputs": [
    {
     "data": {
      "text/plain": [
       "(0.9, 1.0)"
      ]
     },
     "execution_count": 167,
     "metadata": {},
     "output_type": "execute_result"
    },
    {
     "data": {
      "image/png": "[encoded data removed]",
      "text/plain": [
       "<Figure size 720x720 with 1 Axes>"
      ]
     },
     "metadata": {},
     "output_type": "display_data"
    }
   ],
   "source": [
    "sns.set_theme(style='darkgrid')\n",
    "#กำหนดขนาดของกราฟ\n",
    "countplt, ax = plt.subplots(figsize = (10,10))\n",
    "#สร้างกราฟ Bar chart \n",
    "c_value = sns.barplot(x ='Model_Name', y='ACC_Value', hue='Type', data = sum_viz ,palette='crest',ax=ax)\n",
    "#แสดง Value ในกราฟแต่ละแท่ง\n",
    "for p in c_value.patches:\n",
    "    c_value.annotate(format(p.get_height(), '.3f'), \n",
    "                   (p.get_x() + p.get_width() / 2., p.get_height()), \n",
    "                   ha = 'center', va = 'center', xytext = (0, 8), \n",
    "                   textcoords = 'offset points', size = 11)\n",
    "plt.title('Accuracy Score', size = 18)\n",
    "plt.ylim(0.9,1)"
   ]
  },
  {
   "cell_type": "code",
   "execution_count": 168,
   "metadata": {
    "colab": {
     "base_uri": "https://localhost:8080/",
     "height": 648
    },
    "collapsed": true,
    "id": "yIzWSFMdfy0c",
    "jupyter": {
     "outputs_hidden": true
    },
    "outputId": "dba41f5b-9560-412d-cab4-4d5fd116393f"
   },
   "outputs": [
    {
     "data": {
      "text/plain": [
       "(0.9, 1.0)"
      ]
     },
     "execution_count": 168,
     "metadata": {},
     "output_type": "execute_result"
    },
    {
     "data": {
      "image/png": "[encoded data removed]",
      "text/plain": [
       "<Figure size 720x720 with 1 Axes>"
      ]
     },
     "metadata": {},
     "output_type": "display_data"
    }
   ],
   "source": [
    "#กำหนดขนาดของกราฟ\n",
    "countplt, ax = plt.subplots(figsize = (10,10))\n",
    "#สร้างกราฟ Bar chart \n",
    "c_value = sns.barplot(x ='Model_Name', y='CV_Value', hue='Type', data = sum_viz ,palette='Greens',ax=ax)\n",
    "#แสดง Value ในกราฟแต่ละแท่ง\n",
    "for p in c_value.patches:\n",
    "    c_value.annotate(format(p.get_height(), '.3f'), \n",
    "                   (p.get_x() + p.get_width() / 2., p.get_height()), \n",
    "                   ha = 'center', va = 'center', xytext = (0, 8), \n",
    "                   textcoords = 'offset points', size = 11)\n",
    "plt.title('Cross validation Score', size = 18)\n",
    "plt.ylim(0.9,1)"
   ]
  },
  {
   "cell_type": "code",
   "execution_count": 175,
   "metadata": {
    "colab": {
     "base_uri": "https://localhost:8080/",
     "height": 648
    },
    "collapsed": true,
    "id": "stfREn-xyehp",
    "jupyter": {
     "outputs_hidden": true
    },
    "outputId": "a29fac9b-dc69-4003-aea5-660c65f957bd"
   },
   "outputs": [
    {
     "data": {
      "text/plain": [
       "(0.9, 1.0)"
      ]
     },
     "execution_count": 175,
     "metadata": {},
     "output_type": "execute_result"
    },
    {
     "data": {
      "image/png": "[encoded data removed]",
      "text/plain": [
       "<Figure size 720x720 with 1 Axes>"
      ]
     },
     "metadata": {},
     "output_type": "display_data"
    }
   ],
   "source": [
    "#กำหนดขนาดของกราฟ\n",
    "countplt, ax = plt.subplots(figsize = (10,10))\n",
    "#สร้างกราฟ Bar chart \n",
    "c_value = sns.barplot(x ='Model_Name', y='F1_Score', hue='Type', data = sum_viz ,palette='OrRd',ax=ax)\n",
    "#แสดง Value ในกราฟแต่ละแท่ง\n",
    "for p in c_value.patches:\n",
    "    c_value.annotate(format(p.get_height(), '.3f'), \n",
    "                   (p.get_x() + p.get_width() / 2., p.get_height()), \n",
    "                   ha = 'center', va = 'center', xytext = (0, 8), \n",
    "                   textcoords = 'offset points', size = 11)\n",
    "plt.title('F1-Score', size = 18)\n",
    "plt.ylim(0.9,1)"
   ]
  }
 ],
 "metadata": {
  "colab": {
   "collapsed_sections": [
    "8iGGk3daBFs_"
   ],
   "name": "1_62070274_ศุภวิชญ์_Assign2.ipynb",
   "provenance": []
  },
  "kernelspec": {
   "display_name": "Python 3",
   "language": "python",
   "name": "python3"
  },
  "language_info": {
   "codemirror_mode": {
    "name": "ipython",
    "version": 3
   },
   "file_extension": ".py",
   "mimetype": "text/x-python",
   "name": "python",
   "nbconvert_exporter": "python",
   "pygments_lexer": "ipython3",
   "version": "3.7.4"
  }
 },
 "nbformat": 4,
 "nbformat_minor": 4
}
